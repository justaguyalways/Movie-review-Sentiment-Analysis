{
  "nbformat": 4,
  "nbformat_minor": 0,
  "metadata": {
    "colab": {
      "provenance": [],
      "authorship_tag": "ABX9TyMTUWWWdNhj42rOurJu1cWE",
      "include_colab_link": true
    },
    "kernelspec": {
      "name": "python3",
      "display_name": "Python 3"
    },
    "language_info": {
      "name": "python"
    }
  },
  "cells": [
    {
      "cell_type": "markdown",
      "metadata": {
        "id": "view-in-github",
        "colab_type": "text"
      },
      "source": [
        "<a href=\"https://colab.research.google.com/github/justaguyalways/Movie-review-Sentiment-Analysis/blob/main/Movie_Review_classifier.ipynb\" target=\"_parent\"><img src=\"https://colab.research.google.com/assets/colab-badge.svg\" alt=\"Open In Colab\"/></a>"
      ]
    },
    {
      "cell_type": "code",
      "execution_count": null,
      "metadata": {
        "id": "W5obkCqHoIze",
        "colab": {
          "base_uri": "https://localhost:8080/"
        },
        "outputId": "2c063766-e8d2-4897-baa7-e52db63b9964"
      },
      "outputs": [
        {
          "output_type": "stream",
          "name": "stdout",
          "text": [
            "Looking in indexes: https://pypi.org/simple, https://us-python.pkg.dev/colab-wheels/public/simple/\n",
            "Requirement already satisfied: pyspellchecker in /usr/local/lib/python3.7/dist-packages (0.7.0)\n",
            "Looking in indexes: https://pypi.org/simple, https://us-python.pkg.dev/colab-wheels/public/simple/\n",
            "Requirement already satisfied: plotly_express==0.4.0 in /usr/local/lib/python3.7/dist-packages (0.4.0)\n",
            "Requirement already satisfied: numpy>=1.11 in /usr/local/lib/python3.7/dist-packages (from plotly_express==0.4.0) (1.21.6)\n",
            "Requirement already satisfied: scipy>=0.18 in /usr/local/lib/python3.7/dist-packages (from plotly_express==0.4.0) (1.7.3)\n",
            "Requirement already satisfied: plotly>=4.0.0 in /usr/local/lib/python3.7/dist-packages (from plotly_express==0.4.0) (5.5.0)\n",
            "Requirement already satisfied: pandas>=0.20.0 in /usr/local/lib/python3.7/dist-packages (from plotly_express==0.4.0) (1.3.5)\n",
            "Requirement already satisfied: patsy>=0.5 in /usr/local/lib/python3.7/dist-packages (from plotly_express==0.4.0) (0.5.2)\n",
            "Requirement already satisfied: statsmodels>=0.9.0 in /usr/local/lib/python3.7/dist-packages (from plotly_express==0.4.0) (0.12.2)\n",
            "Requirement already satisfied: pytz>=2017.3 in /usr/local/lib/python3.7/dist-packages (from pandas>=0.20.0->plotly_express==0.4.0) (2022.2.1)\n",
            "Requirement already satisfied: python-dateutil>=2.7.3 in /usr/local/lib/python3.7/dist-packages (from pandas>=0.20.0->plotly_express==0.4.0) (2.8.2)\n",
            "Requirement already satisfied: six in /usr/local/lib/python3.7/dist-packages (from patsy>=0.5->plotly_express==0.4.0) (1.15.0)\n",
            "Requirement already satisfied: tenacity>=6.2.0 in /usr/local/lib/python3.7/dist-packages (from plotly>=4.0.0->plotly_express==0.4.0) (8.0.1)\n"
          ]
        }
      ],
      "source": [
        "import torch\n",
        "from torch.utils.data import DataLoader, TensorDataset\n",
        "from torch.nn.utils.rnn import pack_padded_sequence, pad_packed_sequence\n",
        "import torch.nn as nn\n",
        "from sklearn.feature_extraction.text import CountVectorizer\n",
        "from tqdm import tqdm, tqdm_notebook\n",
        "import string\n",
        "from collections import Counter\n",
        "\n",
        "%pip install pyspellchecker\n",
        "%pip install plotly_express==0.4.0\n",
        "import re\n",
        "import nltk \n",
        "import spacy\n",
        "import  matplotlib\n",
        "\n",
        "import numpy as np \n",
        "import pandas as pd \n",
        "import seaborn as sns\n",
        "import matplotlib.pyplot as plt\n",
        "import plotly_express as px\n",
        "\n",
        "from bs4 import BeautifulSoup\n",
        "\n",
        "from nltk.corpus import stopwords\n",
        "from nltk.tokenize import word_tokenize\n",
        "from nltk.probability import FreqDist\n",
        "\n",
        "import sklearn\n",
        "from sklearn.feature_extraction.text import TfidfVectorizer\n",
        "from sklearn.model_selection import train_test_split\n",
        "from sklearn.tree import DecisionTreeClassifier \n",
        "from sklearn.linear_model import LogisticRegression, SGDClassifier\n",
        "from sklearn.naive_bayes import MultinomialNB\n",
        "from sklearn.decomposition import TruncatedSVD\n",
        "from sklearn.preprocessing import LabelEncoder, OneHotEncoder\n",
        "from sklearn.metrics import accuracy_score, mean_squared_error, confusion_matrix\n",
        "\n",
        "from tensorflow.keras.models import Sequential\n",
        "from tensorflow.keras.layers import Dense, Flatten\n",
        "from keras.layers.convolutional import Conv1D, MaxPooling1D\n",
        "from keras.layers.embeddings import Embedding\n",
        "from tensorflow.keras.preprocessing import sequence\n",
        "from tensorflow.keras.preprocessing.text import Tokenizer\n",
        "\n",
        "from spellchecker import SpellChecker\n",
        "\n",
        "from IPython.display import display\n",
        "\n",
        "\n",
        "\n",
        "\n"
      ]
    },
    {
      "cell_type": "code",
      "source": [
        "device = torch.device('cuda' if torch.cuda.is_available() else 'cpu')\n",
        "device"
      ],
      "metadata": {
        "id": "8G_0502ir1KU",
        "colab": {
          "base_uri": "https://localhost:8080/"
        },
        "outputId": "368548ae-005d-44ed-cf2f-f6153b917820"
      },
      "execution_count": null,
      "outputs": [
        {
          "output_type": "execute_result",
          "data": {
            "text/plain": [
              "device(type='cpu')"
            ]
          },
          "metadata": {},
          "execution_count": 146
        }
      ]
    },
    {
      "cell_type": "code",
      "source": [
        "df = pd.read_csv('movie_dataset/IMDB_Dataset.csv')"
      ],
      "metadata": {
        "id": "k-scb1Y-r1jS"
      },
      "execution_count": null,
      "outputs": []
    },
    {
      "cell_type": "code",
      "source": [
        "import nltk\n",
        "nltk.download('stopwords')\n"
      ],
      "metadata": {
        "id": "sN3pr2a_Zq-s",
        "colab": {
          "base_uri": "https://localhost:8080/"
        },
        "outputId": "7f9f3e9c-d0df-4920-d053-e64708aba238"
      },
      "execution_count": null,
      "outputs": [
        {
          "output_type": "stream",
          "name": "stderr",
          "text": [
            "[nltk_data] Downloading package stopwords to /root/nltk_data...\n",
            "[nltk_data]   Package stopwords is already up-to-date!\n"
          ]
        },
        {
          "output_type": "execute_result",
          "data": {
            "text/plain": [
              "True"
            ]
          },
          "metadata": {},
          "execution_count": 148
        }
      ]
    },
    {
      "cell_type": "code",
      "source": [
        "df['review'] = df['review'].str.lower()\n",
        "en_stopwords = stopwords.words('english')\n",
        "\n",
        "def preprocess(text):\n",
        "  text = \" \".join(text.split())\n",
        "  text = re.sub('<.*?>', '', text)\n",
        "  text =  ''.join([x for x in text if x not in string.punctuation])\n",
        "  text = [word for word in text.split() if word not in en_stopwords]\n",
        "  text = \" \".join(text)\n",
        "  return text\n",
        "\n",
        "def remove_emojis(data):\n",
        "    emojis = re.compile(\"[\"\n",
        "        u\"\\U0001F600-\\U0001F64F\"  # emoticons\n",
        "        u\"\\U0001F300-\\U0001F5FF\"  # symbols & pictographs\n",
        "        u\"\\U0001F680-\\U0001F6FF\"  # transport & map symbols\n",
        "        u\"\\U0001F1E0-\\U0001F1FF\"  # flags (iOS)\n",
        "                           \"]+\", flags = re.UNICODE)\n",
        "    return emojis.sub(r'',data)\n",
        "  \n",
        "df['cleaned_review'] = df['review'].apply(preprocess)\n",
        "df['cleaned_review'] = df['cleaned_review'].apply(remove_emojis)\n",
        "df.head()\n",
        "\n",
        "\n"
      ],
      "metadata": {
        "id": "zg8HilYcgOmx",
        "colab": {
          "base_uri": "https://localhost:8080/",
          "height": 206
        },
        "outputId": "10020659-bc1e-47f4-ccf4-b76351b44e00"
      },
      "execution_count": null,
      "outputs": [
        {
          "output_type": "execute_result",
          "data": {
            "text/plain": [
              "                                              review sentiment  \\\n",
              "0  one of the other reviewers has mentioned that ...  positive   \n",
              "1  a wonderful little production. <br /><br />the...  positive   \n",
              "2  i thought this was a wonderful way to spend ti...  positive   \n",
              "3  basically there's a family where a little boy ...  negative   \n",
              "4  petter mattei's \"love in the time of money\" is...  positive   \n",
              "\n",
              "                                      cleaned_review  \n",
              "0  one reviewers mentioned watching 1 oz episode ...  \n",
              "1  wonderful little production filming technique ...  \n",
              "2  thought wonderful way spend time hot summer we...  \n",
              "3  basically theres family little boy jake thinks...  \n",
              "4  petter matteis love time money visually stunni...  "
            ],
            "text/html": [
              "\n",
              "  <div id=\"df-fc41970c-b065-409f-8626-d5727455c619\">\n",
              "    <div class=\"colab-df-container\">\n",
              "      <div>\n",
              "<style scoped>\n",
              "    .dataframe tbody tr th:only-of-type {\n",
              "        vertical-align: middle;\n",
              "    }\n",
              "\n",
              "    .dataframe tbody tr th {\n",
              "        vertical-align: top;\n",
              "    }\n",
              "\n",
              "    .dataframe thead th {\n",
              "        text-align: right;\n",
              "    }\n",
              "</style>\n",
              "<table border=\"1\" class=\"dataframe\">\n",
              "  <thead>\n",
              "    <tr style=\"text-align: right;\">\n",
              "      <th></th>\n",
              "      <th>review</th>\n",
              "      <th>sentiment</th>\n",
              "      <th>cleaned_review</th>\n",
              "    </tr>\n",
              "  </thead>\n",
              "  <tbody>\n",
              "    <tr>\n",
              "      <th>0</th>\n",
              "      <td>one of the other reviewers has mentioned that ...</td>\n",
              "      <td>positive</td>\n",
              "      <td>one reviewers mentioned watching 1 oz episode ...</td>\n",
              "    </tr>\n",
              "    <tr>\n",
              "      <th>1</th>\n",
              "      <td>a wonderful little production. &lt;br /&gt;&lt;br /&gt;the...</td>\n",
              "      <td>positive</td>\n",
              "      <td>wonderful little production filming technique ...</td>\n",
              "    </tr>\n",
              "    <tr>\n",
              "      <th>2</th>\n",
              "      <td>i thought this was a wonderful way to spend ti...</td>\n",
              "      <td>positive</td>\n",
              "      <td>thought wonderful way spend time hot summer we...</td>\n",
              "    </tr>\n",
              "    <tr>\n",
              "      <th>3</th>\n",
              "      <td>basically there's a family where a little boy ...</td>\n",
              "      <td>negative</td>\n",
              "      <td>basically theres family little boy jake thinks...</td>\n",
              "    </tr>\n",
              "    <tr>\n",
              "      <th>4</th>\n",
              "      <td>petter mattei's \"love in the time of money\" is...</td>\n",
              "      <td>positive</td>\n",
              "      <td>petter matteis love time money visually stunni...</td>\n",
              "    </tr>\n",
              "  </tbody>\n",
              "</table>\n",
              "</div>\n",
              "      <button class=\"colab-df-convert\" onclick=\"convertToInteractive('df-fc41970c-b065-409f-8626-d5727455c619')\"\n",
              "              title=\"Convert this dataframe to an interactive table.\"\n",
              "              style=\"display:none;\">\n",
              "        \n",
              "  <svg xmlns=\"http://www.w3.org/2000/svg\" height=\"24px\"viewBox=\"0 0 24 24\"\n",
              "       width=\"24px\">\n",
              "    <path d=\"M0 0h24v24H0V0z\" fill=\"none\"/>\n",
              "    <path d=\"M18.56 5.44l.94 2.06.94-2.06 2.06-.94-2.06-.94-.94-2.06-.94 2.06-2.06.94zm-11 1L8.5 8.5l.94-2.06 2.06-.94-2.06-.94L8.5 2.5l-.94 2.06-2.06.94zm10 10l.94 2.06.94-2.06 2.06-.94-2.06-.94-.94-2.06-.94 2.06-2.06.94z\"/><path d=\"M17.41 7.96l-1.37-1.37c-.4-.4-.92-.59-1.43-.59-.52 0-1.04.2-1.43.59L10.3 9.45l-7.72 7.72c-.78.78-.78 2.05 0 2.83L4 21.41c.39.39.9.59 1.41.59.51 0 1.02-.2 1.41-.59l7.78-7.78 2.81-2.81c.8-.78.8-2.07 0-2.86zM5.41 20L4 18.59l7.72-7.72 1.47 1.35L5.41 20z\"/>\n",
              "  </svg>\n",
              "      </button>\n",
              "      \n",
              "  <style>\n",
              "    .colab-df-container {\n",
              "      display:flex;\n",
              "      flex-wrap:wrap;\n",
              "      gap: 12px;\n",
              "    }\n",
              "\n",
              "    .colab-df-convert {\n",
              "      background-color: #E8F0FE;\n",
              "      border: none;\n",
              "      border-radius: 50%;\n",
              "      cursor: pointer;\n",
              "      display: none;\n",
              "      fill: #1967D2;\n",
              "      height: 32px;\n",
              "      padding: 0 0 0 0;\n",
              "      width: 32px;\n",
              "    }\n",
              "\n",
              "    .colab-df-convert:hover {\n",
              "      background-color: #E2EBFA;\n",
              "      box-shadow: 0px 1px 2px rgba(60, 64, 67, 0.3), 0px 1px 3px 1px rgba(60, 64, 67, 0.15);\n",
              "      fill: #174EA6;\n",
              "    }\n",
              "\n",
              "    [theme=dark] .colab-df-convert {\n",
              "      background-color: #3B4455;\n",
              "      fill: #D2E3FC;\n",
              "    }\n",
              "\n",
              "    [theme=dark] .colab-df-convert:hover {\n",
              "      background-color: #434B5C;\n",
              "      box-shadow: 0px 1px 3px 1px rgba(0, 0, 0, 0.15);\n",
              "      filter: drop-shadow(0px 1px 2px rgba(0, 0, 0, 0.3));\n",
              "      fill: #FFFFFF;\n",
              "    }\n",
              "  </style>\n",
              "\n",
              "      <script>\n",
              "        const buttonEl =\n",
              "          document.querySelector('#df-fc41970c-b065-409f-8626-d5727455c619 button.colab-df-convert');\n",
              "        buttonEl.style.display =\n",
              "          google.colab.kernel.accessAllowed ? 'block' : 'none';\n",
              "\n",
              "        async function convertToInteractive(key) {\n",
              "          const element = document.querySelector('#df-fc41970c-b065-409f-8626-d5727455c619');\n",
              "          const dataTable =\n",
              "            await google.colab.kernel.invokeFunction('convertToInteractive',\n",
              "                                                     [key], {});\n",
              "          if (!dataTable) return;\n",
              "\n",
              "          const docLinkHtml = 'Like what you see? Visit the ' +\n",
              "            '<a target=\"_blank\" href=https://colab.research.google.com/notebooks/data_table.ipynb>data table notebook</a>'\n",
              "            + ' to learn more about interactive tables.';\n",
              "          element.innerHTML = '';\n",
              "          dataTable['output_type'] = 'display_data';\n",
              "          await google.colab.output.renderOutput(dataTable, element);\n",
              "          const docLink = document.createElement('div');\n",
              "          docLink.innerHTML = docLinkHtml;\n",
              "          element.appendChild(docLink);\n",
              "        }\n",
              "      </script>\n",
              "    </div>\n",
              "  </div>\n",
              "  "
            ]
          },
          "metadata": {},
          "execution_count": 149
        }
      ]
    },
    {
      "cell_type": "code",
      "source": [
        "words = [word for line in df['cleaned_review'] for word in line.split()]     \n",
        "words = Counter(words)\n",
        "sorted_words = words.most_common()"
      ],
      "metadata": {
        "id": "szm4mQMBkF9M"
      },
      "execution_count": null,
      "outputs": []
    },
    {
      "cell_type": "code",
      "source": [
        "print(sorted_words[0])"
      ],
      "metadata": {
        "colab": {
          "base_uri": "https://localhost:8080/"
        },
        "id": "-zXYnibfm6DO",
        "outputId": "f05f662d-71ca-4b66-b4a2-fce4448c9f06"
      },
      "execution_count": null,
      "outputs": [
        {
          "output_type": "stream",
          "name": "stdout",
          "text": [
            "('movie', 83506)\n"
          ]
        }
      ]
    },
    {
      "cell_type": "code",
      "source": [
        "vocab_to_int = {w:i+1 for i, (w,c) in enumerate(sorted_words)}"
      ],
      "metadata": {
        "id": "Uk_wTOsWqE1B"
      },
      "execution_count": null,
      "outputs": []
    },
    {
      "cell_type": "code",
      "source": [
        "print(vocab_to_int['movie'])"
      ],
      "metadata": {
        "colab": {
          "base_uri": "https://localhost:8080/"
        },
        "id": "C13ZUStmqE83",
        "outputId": "2bf6db25-28b9-415b-a55f-8334cd3de27c"
      },
      "execution_count": null,
      "outputs": [
        {
          "output_type": "stream",
          "name": "stdout",
          "text": [
            "1\n"
          ]
        }
      ]
    },
    {
      "cell_type": "code",
      "source": [
        "def sent(x):\n",
        "  if(x == 'positive'):\n",
        "    return 1\n",
        "  else: \n",
        "    return 0\n",
        "df['sentiment']= df['sentiment'].apply(sent)\n",
        "df.head()"
      ],
      "metadata": {
        "colab": {
          "base_uri": "https://localhost:8080/",
          "height": 206
        },
        "id": "xYyWfaVUqFKL",
        "outputId": "a383090b-af2a-4eaa-c948-bb8e9d56b87b"
      },
      "execution_count": null,
      "outputs": [
        {
          "output_type": "execute_result",
          "data": {
            "text/plain": [
              "                                              review  sentiment  \\\n",
              "0  one of the other reviewers has mentioned that ...          1   \n",
              "1  a wonderful little production. <br /><br />the...          1   \n",
              "2  i thought this was a wonderful way to spend ti...          1   \n",
              "3  basically there's a family where a little boy ...          0   \n",
              "4  petter mattei's \"love in the time of money\" is...          1   \n",
              "\n",
              "                                      cleaned_review  \n",
              "0  one reviewers mentioned watching 1 oz episode ...  \n",
              "1  wonderful little production filming technique ...  \n",
              "2  thought wonderful way spend time hot summer we...  \n",
              "3  basically theres family little boy jake thinks...  \n",
              "4  petter matteis love time money visually stunni...  "
            ],
            "text/html": [
              "\n",
              "  <div id=\"df-aee7d3dc-550a-4f81-a0ac-bcad023d9474\">\n",
              "    <div class=\"colab-df-container\">\n",
              "      <div>\n",
              "<style scoped>\n",
              "    .dataframe tbody tr th:only-of-type {\n",
              "        vertical-align: middle;\n",
              "    }\n",
              "\n",
              "    .dataframe tbody tr th {\n",
              "        vertical-align: top;\n",
              "    }\n",
              "\n",
              "    .dataframe thead th {\n",
              "        text-align: right;\n",
              "    }\n",
              "</style>\n",
              "<table border=\"1\" class=\"dataframe\">\n",
              "  <thead>\n",
              "    <tr style=\"text-align: right;\">\n",
              "      <th></th>\n",
              "      <th>review</th>\n",
              "      <th>sentiment</th>\n",
              "      <th>cleaned_review</th>\n",
              "    </tr>\n",
              "  </thead>\n",
              "  <tbody>\n",
              "    <tr>\n",
              "      <th>0</th>\n",
              "      <td>one of the other reviewers has mentioned that ...</td>\n",
              "      <td>1</td>\n",
              "      <td>one reviewers mentioned watching 1 oz episode ...</td>\n",
              "    </tr>\n",
              "    <tr>\n",
              "      <th>1</th>\n",
              "      <td>a wonderful little production. &lt;br /&gt;&lt;br /&gt;the...</td>\n",
              "      <td>1</td>\n",
              "      <td>wonderful little production filming technique ...</td>\n",
              "    </tr>\n",
              "    <tr>\n",
              "      <th>2</th>\n",
              "      <td>i thought this was a wonderful way to spend ti...</td>\n",
              "      <td>1</td>\n",
              "      <td>thought wonderful way spend time hot summer we...</td>\n",
              "    </tr>\n",
              "    <tr>\n",
              "      <th>3</th>\n",
              "      <td>basically there's a family where a little boy ...</td>\n",
              "      <td>0</td>\n",
              "      <td>basically theres family little boy jake thinks...</td>\n",
              "    </tr>\n",
              "    <tr>\n",
              "      <th>4</th>\n",
              "      <td>petter mattei's \"love in the time of money\" is...</td>\n",
              "      <td>1</td>\n",
              "      <td>petter matteis love time money visually stunni...</td>\n",
              "    </tr>\n",
              "  </tbody>\n",
              "</table>\n",
              "</div>\n",
              "      <button class=\"colab-df-convert\" onclick=\"convertToInteractive('df-aee7d3dc-550a-4f81-a0ac-bcad023d9474')\"\n",
              "              title=\"Convert this dataframe to an interactive table.\"\n",
              "              style=\"display:none;\">\n",
              "        \n",
              "  <svg xmlns=\"http://www.w3.org/2000/svg\" height=\"24px\"viewBox=\"0 0 24 24\"\n",
              "       width=\"24px\">\n",
              "    <path d=\"M0 0h24v24H0V0z\" fill=\"none\"/>\n",
              "    <path d=\"M18.56 5.44l.94 2.06.94-2.06 2.06-.94-2.06-.94-.94-2.06-.94 2.06-2.06.94zm-11 1L8.5 8.5l.94-2.06 2.06-.94-2.06-.94L8.5 2.5l-.94 2.06-2.06.94zm10 10l.94 2.06.94-2.06 2.06-.94-2.06-.94-.94-2.06-.94 2.06-2.06.94z\"/><path d=\"M17.41 7.96l-1.37-1.37c-.4-.4-.92-.59-1.43-.59-.52 0-1.04.2-1.43.59L10.3 9.45l-7.72 7.72c-.78.78-.78 2.05 0 2.83L4 21.41c.39.39.9.59 1.41.59.51 0 1.02-.2 1.41-.59l7.78-7.78 2.81-2.81c.8-.78.8-2.07 0-2.86zM5.41 20L4 18.59l7.72-7.72 1.47 1.35L5.41 20z\"/>\n",
              "  </svg>\n",
              "      </button>\n",
              "      \n",
              "  <style>\n",
              "    .colab-df-container {\n",
              "      display:flex;\n",
              "      flex-wrap:wrap;\n",
              "      gap: 12px;\n",
              "    }\n",
              "\n",
              "    .colab-df-convert {\n",
              "      background-color: #E8F0FE;\n",
              "      border: none;\n",
              "      border-radius: 50%;\n",
              "      cursor: pointer;\n",
              "      display: none;\n",
              "      fill: #1967D2;\n",
              "      height: 32px;\n",
              "      padding: 0 0 0 0;\n",
              "      width: 32px;\n",
              "    }\n",
              "\n",
              "    .colab-df-convert:hover {\n",
              "      background-color: #E2EBFA;\n",
              "      box-shadow: 0px 1px 2px rgba(60, 64, 67, 0.3), 0px 1px 3px 1px rgba(60, 64, 67, 0.15);\n",
              "      fill: #174EA6;\n",
              "    }\n",
              "\n",
              "    [theme=dark] .colab-df-convert {\n",
              "      background-color: #3B4455;\n",
              "      fill: #D2E3FC;\n",
              "    }\n",
              "\n",
              "    [theme=dark] .colab-df-convert:hover {\n",
              "      background-color: #434B5C;\n",
              "      box-shadow: 0px 1px 3px 1px rgba(0, 0, 0, 0.15);\n",
              "      filter: drop-shadow(0px 1px 2px rgba(0, 0, 0, 0.3));\n",
              "      fill: #FFFFFF;\n",
              "    }\n",
              "  </style>\n",
              "\n",
              "      <script>\n",
              "        const buttonEl =\n",
              "          document.querySelector('#df-aee7d3dc-550a-4f81-a0ac-bcad023d9474 button.colab-df-convert');\n",
              "        buttonEl.style.display =\n",
              "          google.colab.kernel.accessAllowed ? 'block' : 'none';\n",
              "\n",
              "        async function convertToInteractive(key) {\n",
              "          const element = document.querySelector('#df-aee7d3dc-550a-4f81-a0ac-bcad023d9474');\n",
              "          const dataTable =\n",
              "            await google.colab.kernel.invokeFunction('convertToInteractive',\n",
              "                                                     [key], {});\n",
              "          if (!dataTable) return;\n",
              "\n",
              "          const docLinkHtml = 'Like what you see? Visit the ' +\n",
              "            '<a target=\"_blank\" href=https://colab.research.google.com/notebooks/data_table.ipynb>data table notebook</a>'\n",
              "            + ' to learn more about interactive tables.';\n",
              "          element.innerHTML = '';\n",
              "          dataTable['output_type'] = 'display_data';\n",
              "          await google.colab.output.renderOutput(dataTable, element);\n",
              "          const docLink = document.createElement('div');\n",
              "          docLink.innerHTML = docLinkHtml;\n",
              "          element.appendChild(docLink);\n",
              "        }\n",
              "      </script>\n",
              "    </div>\n",
              "  </div>\n",
              "  "
            ]
          },
          "metadata": {},
          "execution_count": 155
        }
      ]
    },
    {
      "cell_type": "code",
      "source": [
        "def length_cal(text):\n",
        "  len = 0\n",
        "  for word in text.split():\n",
        "    len = len + 1\n",
        "  return len\n",
        "df['length'] = df['cleaned_review'].apply(length_cal)\n",
        "df.head()"
      ],
      "metadata": {
        "colab": {
          "base_uri": "https://localhost:8080/",
          "height": 206
        },
        "id": "Hr3SHNaPswKO",
        "outputId": "195c0b4c-cc49-4742-b8d7-683cda095630"
      },
      "execution_count": null,
      "outputs": [
        {
          "output_type": "execute_result",
          "data": {
            "text/plain": [
              "                                              review  sentiment  \\\n",
              "0  one of the other reviewers has mentioned that ...          1   \n",
              "1  a wonderful little production. <br /><br />the...          1   \n",
              "2  i thought this was a wonderful way to spend ti...          1   \n",
              "3  basically there's a family where a little boy ...          0   \n",
              "4  petter mattei's \"love in the time of money\" is...          1   \n",
              "\n",
              "                                      cleaned_review  length  \n",
              "0  one reviewers mentioned watching 1 oz episode ...     168  \n",
              "1  wonderful little production filming technique ...      84  \n",
              "2  thought wonderful way spend time hot summer we...      86  \n",
              "3  basically theres family little boy jake thinks...      67  \n",
              "4  petter matteis love time money visually stunni...     125  "
            ],
            "text/html": [
              "\n",
              "  <div id=\"df-ff1fd17d-146b-4c82-9a2f-f81e2889f59c\">\n",
              "    <div class=\"colab-df-container\">\n",
              "      <div>\n",
              "<style scoped>\n",
              "    .dataframe tbody tr th:only-of-type {\n",
              "        vertical-align: middle;\n",
              "    }\n",
              "\n",
              "    .dataframe tbody tr th {\n",
              "        vertical-align: top;\n",
              "    }\n",
              "\n",
              "    .dataframe thead th {\n",
              "        text-align: right;\n",
              "    }\n",
              "</style>\n",
              "<table border=\"1\" class=\"dataframe\">\n",
              "  <thead>\n",
              "    <tr style=\"text-align: right;\">\n",
              "      <th></th>\n",
              "      <th>review</th>\n",
              "      <th>sentiment</th>\n",
              "      <th>cleaned_review</th>\n",
              "      <th>length</th>\n",
              "    </tr>\n",
              "  </thead>\n",
              "  <tbody>\n",
              "    <tr>\n",
              "      <th>0</th>\n",
              "      <td>one of the other reviewers has mentioned that ...</td>\n",
              "      <td>1</td>\n",
              "      <td>one reviewers mentioned watching 1 oz episode ...</td>\n",
              "      <td>168</td>\n",
              "    </tr>\n",
              "    <tr>\n",
              "      <th>1</th>\n",
              "      <td>a wonderful little production. &lt;br /&gt;&lt;br /&gt;the...</td>\n",
              "      <td>1</td>\n",
              "      <td>wonderful little production filming technique ...</td>\n",
              "      <td>84</td>\n",
              "    </tr>\n",
              "    <tr>\n",
              "      <th>2</th>\n",
              "      <td>i thought this was a wonderful way to spend ti...</td>\n",
              "      <td>1</td>\n",
              "      <td>thought wonderful way spend time hot summer we...</td>\n",
              "      <td>86</td>\n",
              "    </tr>\n",
              "    <tr>\n",
              "      <th>3</th>\n",
              "      <td>basically there's a family where a little boy ...</td>\n",
              "      <td>0</td>\n",
              "      <td>basically theres family little boy jake thinks...</td>\n",
              "      <td>67</td>\n",
              "    </tr>\n",
              "    <tr>\n",
              "      <th>4</th>\n",
              "      <td>petter mattei's \"love in the time of money\" is...</td>\n",
              "      <td>1</td>\n",
              "      <td>petter matteis love time money visually stunni...</td>\n",
              "      <td>125</td>\n",
              "    </tr>\n",
              "  </tbody>\n",
              "</table>\n",
              "</div>\n",
              "      <button class=\"colab-df-convert\" onclick=\"convertToInteractive('df-ff1fd17d-146b-4c82-9a2f-f81e2889f59c')\"\n",
              "              title=\"Convert this dataframe to an interactive table.\"\n",
              "              style=\"display:none;\">\n",
              "        \n",
              "  <svg xmlns=\"http://www.w3.org/2000/svg\" height=\"24px\"viewBox=\"0 0 24 24\"\n",
              "       width=\"24px\">\n",
              "    <path d=\"M0 0h24v24H0V0z\" fill=\"none\"/>\n",
              "    <path d=\"M18.56 5.44l.94 2.06.94-2.06 2.06-.94-2.06-.94-.94-2.06-.94 2.06-2.06.94zm-11 1L8.5 8.5l.94-2.06 2.06-.94-2.06-.94L8.5 2.5l-.94 2.06-2.06.94zm10 10l.94 2.06.94-2.06 2.06-.94-2.06-.94-.94-2.06-.94 2.06-2.06.94z\"/><path d=\"M17.41 7.96l-1.37-1.37c-.4-.4-.92-.59-1.43-.59-.52 0-1.04.2-1.43.59L10.3 9.45l-7.72 7.72c-.78.78-.78 2.05 0 2.83L4 21.41c.39.39.9.59 1.41.59.51 0 1.02-.2 1.41-.59l7.78-7.78 2.81-2.81c.8-.78.8-2.07 0-2.86zM5.41 20L4 18.59l7.72-7.72 1.47 1.35L5.41 20z\"/>\n",
              "  </svg>\n",
              "      </button>\n",
              "      \n",
              "  <style>\n",
              "    .colab-df-container {\n",
              "      display:flex;\n",
              "      flex-wrap:wrap;\n",
              "      gap: 12px;\n",
              "    }\n",
              "\n",
              "    .colab-df-convert {\n",
              "      background-color: #E8F0FE;\n",
              "      border: none;\n",
              "      border-radius: 50%;\n",
              "      cursor: pointer;\n",
              "      display: none;\n",
              "      fill: #1967D2;\n",
              "      height: 32px;\n",
              "      padding: 0 0 0 0;\n",
              "      width: 32px;\n",
              "    }\n",
              "\n",
              "    .colab-df-convert:hover {\n",
              "      background-color: #E2EBFA;\n",
              "      box-shadow: 0px 1px 2px rgba(60, 64, 67, 0.3), 0px 1px 3px 1px rgba(60, 64, 67, 0.15);\n",
              "      fill: #174EA6;\n",
              "    }\n",
              "\n",
              "    [theme=dark] .colab-df-convert {\n",
              "      background-color: #3B4455;\n",
              "      fill: #D2E3FC;\n",
              "    }\n",
              "\n",
              "    [theme=dark] .colab-df-convert:hover {\n",
              "      background-color: #434B5C;\n",
              "      box-shadow: 0px 1px 3px 1px rgba(0, 0, 0, 0.15);\n",
              "      filter: drop-shadow(0px 1px 2px rgba(0, 0, 0, 0.3));\n",
              "      fill: #FFFFFF;\n",
              "    }\n",
              "  </style>\n",
              "\n",
              "      <script>\n",
              "        const buttonEl =\n",
              "          document.querySelector('#df-ff1fd17d-146b-4c82-9a2f-f81e2889f59c button.colab-df-convert');\n",
              "        buttonEl.style.display =\n",
              "          google.colab.kernel.accessAllowed ? 'block' : 'none';\n",
              "\n",
              "        async function convertToInteractive(key) {\n",
              "          const element = document.querySelector('#df-ff1fd17d-146b-4c82-9a2f-f81e2889f59c');\n",
              "          const dataTable =\n",
              "            await google.colab.kernel.invokeFunction('convertToInteractive',\n",
              "                                                     [key], {});\n",
              "          if (!dataTable) return;\n",
              "\n",
              "          const docLinkHtml = 'Like what you see? Visit the ' +\n",
              "            '<a target=\"_blank\" href=https://colab.research.google.com/notebooks/data_table.ipynb>data table notebook</a>'\n",
              "            + ' to learn more about interactive tables.';\n",
              "          element.innerHTML = '';\n",
              "          dataTable['output_type'] = 'display_data';\n",
              "          await google.colab.output.renderOutput(dataTable, element);\n",
              "          const docLink = document.createElement('div');\n",
              "          docLink.innerHTML = docLinkHtml;\n",
              "          element.appendChild(docLink);\n",
              "        }\n",
              "      </script>\n",
              "    </div>\n",
              "  </div>\n",
              "  "
            ]
          },
          "metadata": {},
          "execution_count": 156
        }
      ]
    },
    {
      "cell_type": "code",
      "source": [
        "print (df['review'][1])\n",
        "  "
      ],
      "metadata": {
        "colab": {
          "base_uri": "https://localhost:8080/"
        },
        "id": "TeTumEe7yEMG",
        "outputId": "4bc61867-415a-4c49-ed12-bfe9e14adca6"
      },
      "execution_count": null,
      "outputs": [
        {
          "output_type": "stream",
          "name": "stdout",
          "text": [
            "a wonderful little production. <br /><br />the filming technique is very unassuming- very old-time-bbc fashion and gives a comforting, and sometimes discomforting, sense of realism to the entire piece. <br /><br />the actors are extremely well chosen- michael sheen not only \"has got all the polari\" but he has all the voices down pat too! you can truly see the seamless editing guided by the references to williams' diary entries, not only is it well worth the watching but it is a terrificly written and performed piece. a masterful production about one of the great master's of comedy and his life. <br /><br />the realism really comes home with the little things: the fantasy of the guard which, rather than use the traditional 'dream' techniques remains solid then disappears. it plays on our knowledge and our senses, particularly with the scenes concerning orton and halliwell and the sets (particularly of their flat with halliwell's murals decorating every surface) are terribly well done.\n"
          ]
        }
      ]
    },
    {
      "cell_type": "code",
      "source": [
        "def to_int(x):\n",
        "  result = []\n",
        "  text = x.split()\n",
        "  for i in range(0,len(text)):\n",
        "    j = vocab_to_int[text[i]]\n",
        "    result.append(j)\n",
        "  return result"
      ],
      "metadata": {
        "id": "6Qz29WHeyERz"
      },
      "execution_count": null,
      "outputs": []
    },
    {
      "cell_type": "code",
      "source": [
        "print(to_int(df['cleaned_review'][0]))\n",
        "df['cleaned_review'][0]"
      ],
      "metadata": {
        "colab": {
          "base_uri": "https://localhost:8080/",
          "height": 177
        },
        "id": "xjVUcmwf_DhK",
        "outputId": "259252b9-6eb8-4667-d6d1-99a9b0a36b0a"
      },
      "execution_count": null,
      "outputs": [
        {
          "output_type": "stream",
          "name": "stdout",
          "text": [
            "[3, 1809, 941, 56, 398, 3216, 286, 349, 3024, 107, 482, 471, 7412, 19, 57, 3097, 3216, 5384, 14831, 50, 473, 180, 107, 549, 52, 1605, 41, 8024, 5580, 11453, 41, 2358, 5834, 5492, 1339, 276, 473, 3259, 246, 233, 60896, 353, 3216, 11120, 240, 15438, 6674, 2418, 939, 60897, 2482, 1247, 24496, 422, 4557, 2375, 1080, 6877, 2828, 12558, 298, 60898, 16892, 213, 4901, 3569, 422, 236, 83230, 8153, 39824, 14832, 4989, 7605, 2318, 16893, 60899, 224, 8951, 7194, 12973, 8403, 33774, 34, 126, 21145, 7, 45, 166, 1173, 41, 551, 91, 159, 154, 436, 2842, 704, 84, 1144, 4165, 2352, 975, 704, 1282, 704, 83231, 58, 853, 87, 19, 286, 43, 103, 3097, 1451, 2067, 288, 45, 1422, 174, 1336, 1122, 3216, 88, 9930, 213, 1949, 1961, 473, 473, 7674, 6878, 4782, 13673, 2798, 31538, 6770, 13673, 380, 500, 14, 140, 13, 9589, 633, 694, 6770, 543, 1080, 19845, 551, 439, 809, 1860, 1080, 444, 56, 3216, 98, 302, 3602, 3115, 83232, 14, 1083, 3862, 392]\n"
          ]
        },
        {
          "output_type": "execute_result",
          "data": {
            "text/plain": [
              "'one reviewers mentioned watching 1 oz episode youll hooked right exactly happened methe first thing struck oz brutality unflinching scenes violence set right word go trust show faint hearted timid show pulls punches regards drugs sex violence hardcore classic use wordit called oz nickname given oswald maximum security state penitentary focuses mainly emerald city experimental section prison cells glass fronts face inwards privacy high agenda em city home manyaryans muslims gangstas latinos christians italians irish moreso scuffles death stares dodgy dealings shady agreements never far awayi would say main appeal show due fact goes shows wouldnt dare forget pretty pictures painted mainstream audiences forget charm forget romanceoz doesnt mess around first episode ever saw struck nasty surreal couldnt say ready watched developed taste oz got accustomed high levels graphic violence violence injustice crooked guards wholl sold nickel inmates wholl kill order get away well mannered middle class inmates turned prison bitches due lack street skills prison experience watching oz may become comfortable uncomfortable viewingthats get touch darker side'"
            ],
            "application/vnd.google.colaboratory.intrinsic+json": {
              "type": "string"
            }
          },
          "metadata": {},
          "execution_count": 159
        }
      ]
    },
    {
      "cell_type": "code",
      "source": [
        "df['cleaned_review'] = df['cleaned_review'].apply(to_int)"
      ],
      "metadata": {
        "id": "_WgvfjSpAqg0"
      },
      "execution_count": null,
      "outputs": []
    },
    {
      "cell_type": "code",
      "source": [
        "def pad(x):\n",
        "  if(len(x) < 200):\n",
        "    pad = [0 for i in range(0, 200-len(x))]\n",
        "    pad.extend(x)\n",
        "    result = pad\n",
        "  else:\n",
        "    result = x[:200]\n",
        "  return result\n"
      ],
      "metadata": {
        "id": "0URw7dxkUMyc"
      },
      "execution_count": null,
      "outputs": []
    },
    {
      "cell_type": "code",
      "source": [
        "df.dtypes"
      ],
      "metadata": {
        "id": "aWtkv3s9Z-Vg",
        "colab": {
          "base_uri": "https://localhost:8080/"
        },
        "outputId": "e984698a-8a0f-4f06-e143-2ecd15d59d2d"
      },
      "execution_count": null,
      "outputs": [
        {
          "output_type": "execute_result",
          "data": {
            "text/plain": [
              "review            object\n",
              "sentiment          int64\n",
              "cleaned_review    object\n",
              "length             int64\n",
              "dtype: object"
            ]
          },
          "metadata": {},
          "execution_count": 163
        }
      ]
    },
    {
      "cell_type": "code",
      "source": [
        "features = np.zeros((len(df['cleaned_review']), 200), dtype = int)\n",
        "for i in range(0, len(df['cleaned_review'])):\n",
        "  features[i, :] = np.array(pad(df['cleaned_review'][i]))\n"
      ],
      "metadata": {
        "id": "9au7-iFFdwJz"
      },
      "execution_count": null,
      "outputs": []
    },
    {
      "cell_type": "code",
      "source": [
        "features.dtype"
      ],
      "metadata": {
        "colab": {
          "base_uri": "https://localhost:8080/"
        },
        "id": "GbOFjVT8dvEm",
        "outputId": "04d09406-b8ec-42bf-9e6f-4b1beb29ae2a"
      },
      "execution_count": null,
      "outputs": [
        {
          "output_type": "execute_result",
          "data": {
            "text/plain": [
              "dtype('int64')"
            ]
          },
          "metadata": {},
          "execution_count": 165
        }
      ]
    },
    {
      "cell_type": "code",
      "source": [
        "values=np.array(df['sentiment'], dtype='int64')"
      ],
      "metadata": {
        "id": "tqFH7rPelWtK"
      },
      "execution_count": null,
      "outputs": []
    },
    {
      "cell_type": "code",
      "source": [
        "x_train, x_remain, y_train,y_remain = train_test_split(features, values, test_size=0.2, random_state=1)\n",
        "x_valid, x_test, y_valid, y_test = train_test_split(x_remain, y_remain, test_size=0.1, random_state=1)"
      ],
      "metadata": {
        "id": "rasTTcs_bDDt"
      },
      "execution_count": null,
      "outputs": []
    },
    {
      "cell_type": "code",
      "source": [
        "x_train"
      ],
      "metadata": {
        "id": "VVCYlkEsbDKT",
        "colab": {
          "base_uri": "https://localhost:8080/"
        },
        "outputId": "a7f03a1e-ec4d-414d-8c44-9b8b8d62f9db"
      },
      "execution_count": null,
      "outputs": [
        {
          "output_type": "execute_result",
          "data": {
            "text/plain": [
              "array([[    0,     0,     0, ...,  6199,  5913,   280],\n",
              "       [    0,     0,     0, ...,  6943,   787, 12256],\n",
              "       [    0,     0,     0, ...,     1,   115,     8],\n",
              "       ...,\n",
              "       [    0,     0,     0, ...,    58,  3677,  3301],\n",
              "       [    0,     0,     0, ...,  1595,     2,   103],\n",
              "       [    0,     0,     0, ...,    13,   428,  1044]])"
            ]
          },
          "metadata": {},
          "execution_count": 168
        }
      ]
    },
    {
      "cell_type": "code",
      "source": [
        " rnn_model = tf.keras.Sequential([\n",
        "     tf.keras.layers.Embedding(input_dim = len(vocab_to_int) +1, output_dim = 32 , input_length= 200),\n",
        "      tf.keras.layers.SimpleRNN(32),\n",
        "      tf.keras.layers.Dense(1 , activation = \"sigmoid\")\n",
        "  ])\n"
      ],
      "metadata": {
        "id": "2lw_evB7gdxA"
      },
      "execution_count": null,
      "outputs": []
    },
    {
      "cell_type": "code",
      "source": [
        "rnn_model.compile(optimizer = tf.keras.optimizers.Adam(), loss= tf.keras.losses.BinaryCrossentropy() , metrics=['acc', tf.keras.metrics.Precision(), tf.keras.metrics.Recall()] )"
      ],
      "metadata": {
        "id": "dZcB7jYngd0b"
      },
      "execution_count": null,
      "outputs": []
    },
    {
      "cell_type": "code",
      "source": [
        "rnn_model.summary()"
      ],
      "metadata": {
        "colab": {
          "base_uri": "https://localhost:8080/"
        },
        "id": "S3VgoTwQf2Zh",
        "outputId": "f2539981-88cb-48a5-d84c-59cf7c4dafa8"
      },
      "execution_count": null,
      "outputs": [
        {
          "output_type": "stream",
          "name": "stdout",
          "text": [
            "Model: \"sequential_21\"\n",
            "_________________________________________________________________\n",
            " Layer (type)                Output Shape              Param #   \n",
            "=================================================================\n",
            " embedding_22 (Embedding)    (None, 200, 32)           7123520   \n",
            "                                                                 \n",
            " simple_rnn_9 (SimpleRNN)    (None, 32)                2080      \n",
            "                                                                 \n",
            " dense_21 (Dense)            (None, 1)                 33        \n",
            "                                                                 \n",
            "=================================================================\n",
            "Total params: 7,125,633\n",
            "Trainable params: 7,125,633\n",
            "Non-trainable params: 0\n",
            "_________________________________________________________________\n"
          ]
        }
      ]
    },
    {
      "cell_type": "code",
      "source": [
        "history = rnn_model.fit(batch_size=64, epochs=5 , x=x_train , y = y_train)"
      ],
      "metadata": {
        "colab": {
          "base_uri": "https://localhost:8080/"
        },
        "id": "djVccULAZ3X8",
        "outputId": "aa1ed69d-7e7d-40b5-eac7-c0e066154d07"
      },
      "execution_count": null,
      "outputs": [
        {
          "output_type": "stream",
          "name": "stdout",
          "text": [
            "Epoch 1/5\n",
            "625/625 [==============================] - 114s 179ms/step - loss: 0.4775 - acc: 0.7640 - precision_20: 0.7591 - recall_20: 0.7751\n",
            "Epoch 2/5\n",
            "625/625 [==============================] - 100s 160ms/step - loss: 0.2049 - acc: 0.9239 - precision_20: 0.9199 - recall_20: 0.9291\n",
            "Epoch 3/5\n",
            "625/625 [==============================] - 89s 143ms/step - loss: 0.0581 - acc: 0.9824 - precision_20: 0.9817 - recall_20: 0.9832\n",
            "Epoch 4/5\n",
            "625/625 [==============================] - 88s 141ms/step - loss: 0.0173 - acc: 0.9954 - precision_20: 0.9958 - recall_20: 0.9951\n",
            "Epoch 5/5\n",
            "625/625 [==============================] - 87s 139ms/step - loss: 0.0065 - acc: 0.9984 - precision_20: 0.9981 - recall_20: 0.9989\n"
          ]
        }
      ]
    },
    {
      "cell_type": "code",
      "source": [
        "results = rnn_model.evaluate(x_test ,y_test)\n",
        "print(results)"
      ],
      "metadata": {
        "colab": {
          "base_uri": "https://localhost:8080/"
        },
        "id": "9ZgLZh54pKtM",
        "outputId": "97676358-8f59-4212-c886-c38e4320fb1a"
      },
      "execution_count": null,
      "outputs": [
        {
          "output_type": "stream",
          "name": "stdout",
          "text": [
            "32/32 [==============================] - 1s 15ms/step - loss: 0.6224 - acc: 0.8540 - precision_20: 0.8180 - recall_20: 0.8933\n",
            "[0.622445821762085, 0.8539999723434448, 0.8180076479911804, 0.8933054208755493]\n"
          ]
        }
      ]
    },
    {
      "cell_type": "code",
      "source": [
        "lstm_model = tf.keras.Sequential([\n",
        "     tf.keras.layers.Embedding(input_dim = len(vocab_to_int) +1, output_dim = 32 , input_length= 200),\n",
        "      tf.keras.layers.LSTM(32),\n",
        "      tf.keras.layers.Dense(1 , activation = \"sigmoid\")\n",
        "  ])\n"
      ],
      "metadata": {
        "id": "e-EBiw8op8PB"
      },
      "execution_count": null,
      "outputs": []
    },
    {
      "cell_type": "code",
      "source": [
        "lstm_model.compile(optimizer = tf.keras.optimizers.Adam(), loss= tf.keras.losses.BinaryCrossentropy() ,  metrics=['acc', tf.keras.metrics.Precision(), tf.keras.metrics.Recall()] )"
      ],
      "metadata": {
        "id": "0jY1Q_61p8gb"
      },
      "execution_count": null,
      "outputs": []
    },
    {
      "cell_type": "code",
      "source": [
        "history1 = lstm_model.fit(batch_size=64, epochs=5 , x=x_train , y = y_train)"
      ],
      "metadata": {
        "colab": {
          "base_uri": "https://localhost:8080/"
        },
        "id": "kxQwGkDVqj9v",
        "outputId": "33124714-9c9b-4785-9bc5-7a193d8f9cce"
      },
      "execution_count": null,
      "outputs": [
        {
          "output_type": "stream",
          "name": "stdout",
          "text": [
            "Epoch 1/5\n",
            "625/625 [==============================] - 119s 182ms/step - loss: 0.3552 - acc: 0.8421 - precision_21: 0.8226 - recall_21: 0.8734\n",
            "Epoch 2/5\n",
            "625/625 [==============================] - 122s 196ms/step - loss: 0.1420 - acc: 0.9500 - precision_21: 0.9489 - recall_21: 0.9515\n",
            "Epoch 3/5\n",
            "625/625 [==============================] - 114s 182ms/step - loss: 0.0616 - acc: 0.9807 - precision_21: 0.9800 - recall_21: 0.9814\n",
            "Epoch 4/5\n",
            "625/625 [==============================] - 113s 180ms/step - loss: 0.0334 - acc: 0.9894 - precision_21: 0.9893 - recall_21: 0.9895\n",
            "Epoch 5/5\n",
            "625/625 [==============================] - 113s 180ms/step - loss: 0.0181 - acc: 0.9945 - precision_21: 0.9948 - recall_21: 0.9943\n"
          ]
        }
      ]
    },
    {
      "cell_type": "code",
      "source": [
        "results1 = lstm_model.evaluate(x_test ,y_test)\n",
        "print(results1)"
      ],
      "metadata": {
        "colab": {
          "base_uri": "https://localhost:8080/"
        },
        "id": "JE0QvsB5qkN9",
        "outputId": "e883b9fe-c92d-42af-8478-02cc7cc5fed2"
      },
      "execution_count": null,
      "outputs": [
        {
          "output_type": "stream",
          "name": "stdout",
          "text": [
            "32/32 [==============================] - 2s 22ms/step - loss: 0.5013 - acc: 0.8730 - precision_21: 0.8726 - recall_21: 0.8598\n",
            "[0.5013070106506348, 0.8730000257492065, 0.8726114630699158, 0.8598326444625854]\n"
          ]
        }
      ]
    },
    {
      "cell_type": "code",
      "source": [
        "ypred_rnn = rnn_model.predict(x_test)\n",
        "ypred_lstm = lstm_model.predict(x_test)\n",
        "def labelassign(x):\n",
        "  if(x > 0.5):\n",
        "    return 1\n",
        "  else:\n",
        "    return 0\n",
        "ypred_rnnnew = np.zeros(len(ypred_rnn))\n",
        "ypred_lstmnew = np.zeros(len(ypred_lstm))\n",
        "for i in range(0 , len(ypred_rnn)):\n",
        "  ypred_rnnnew[i] = labelassign(ypred_rnn[i])\n",
        "for i in range(0 , len(ypred_lstm)):\n",
        "  ypred_lstmnew[i] = labelassign(ypred_lstm[i])"
      ],
      "metadata": {
        "id": "YD1SMlm-KnPS"
      },
      "execution_count": null,
      "outputs": []
    },
    {
      "cell_type": "code",
      "source": [
        "cf_rnn = sklearn.metrics.confusion_matrix(y_test, ypred_rnnnew)\n",
        "cf_lstm = sklearn.metrics.confusion_matrix(y_test, ypred_lstmnew)"
      ],
      "metadata": {
        "id": "nz9Rb521KnjT"
      },
      "execution_count": null,
      "outputs": []
    },
    {
      "cell_type": "code",
      "source": [
        "print(cf_rnn)"
      ],
      "metadata": {
        "colab": {
          "base_uri": "https://localhost:8080/"
        },
        "id": "scPqqcLzfWHu",
        "outputId": "d1a0ad14-1e88-4fc2-f2d7-d30e0f43e3da"
      },
      "execution_count": null,
      "outputs": [
        {
          "output_type": "stream",
          "name": "stdout",
          "text": [
            "[[427  95]\n",
            " [ 51 427]]\n"
          ]
        }
      ]
    },
    {
      "cell_type": "code",
      "source": [
        "print(cf_lstm)"
      ],
      "metadata": {
        "colab": {
          "base_uri": "https://localhost:8080/"
        },
        "id": "XdMmvNq6fdVt",
        "outputId": "1dd668cf-8741-4da2-912a-fbf22220aad0"
      },
      "execution_count": null,
      "outputs": [
        {
          "output_type": "stream",
          "name": "stdout",
          "text": [
            "[[462  60]\n",
            " [ 67 411]]\n"
          ]
        }
      ]
    },
    {
      "cell_type": "code",
      "source": [
        "cnn_model = tf.keras.Sequential([\n",
        "    tf.keras.layers.Embedding(input_dim = len(vocab_to_int)+1 , output_dim = 100 , input_length = 200),\n",
        "    tf.keras.layers.Conv1D(filters = 32 , kernel_size= 8 , activation = 'relu'),\n",
        "    tf.keras.layers.MaxPooling1D(pool_size=2),\n",
        "    tf.keras.layers.Flatten(),\n",
        "    tf.keras.layers.Dense(units = 10 , activation = 'relu'),\n",
        "    tf.keras.layers.Dense(units = 1 , activation = 'sigmoid')\n",
        "])\n",
        "cnn_model.summary()"
      ],
      "metadata": {
        "colab": {
          "base_uri": "https://localhost:8080/"
        },
        "id": "xygoLDKvgblR",
        "outputId": "969d51aa-88d5-444b-f5f4-aa6214b745cb"
      },
      "execution_count": null,
      "outputs": [
        {
          "output_type": "stream",
          "name": "stdout",
          "text": [
            "Model: \"sequential_24\"\n",
            "_________________________________________________________________\n",
            " Layer (type)                Output Shape              Param #   \n",
            "=================================================================\n",
            " embedding_25 (Embedding)    (None, 200, 100)          22261000  \n",
            "                                                                 \n",
            " conv1d_1 (Conv1D)           (None, 193, 32)           25632     \n",
            "                                                                 \n",
            " max_pooling1d_1 (MaxPooling  (None, 96, 32)           0         \n",
            " 1D)                                                             \n",
            "                                                                 \n",
            " flatten_3 (Flatten)         (None, 3072)              0         \n",
            "                                                                 \n",
            " dense_24 (Dense)            (None, 10)                30730     \n",
            "                                                                 \n",
            " dense_25 (Dense)            (None, 1)                 11        \n",
            "                                                                 \n",
            "=================================================================\n",
            "Total params: 22,317,373\n",
            "Trainable params: 22,317,373\n",
            "Non-trainable params: 0\n",
            "_________________________________________________________________\n"
          ]
        }
      ]
    },
    {
      "cell_type": "code",
      "source": [
        "cnn_model.compile(optimizer = tf.keras.optimizers.Adam(), loss= tf.keras.losses.BinaryCrossentropy() ,  metrics=['acc', tf.keras.metrics.Precision(), tf.keras.metrics.Recall()] )"
      ],
      "metadata": {
        "id": "nc-Yh1kJgbt-"
      },
      "execution_count": null,
      "outputs": []
    },
    {
      "cell_type": "code",
      "source": [
        "history1 = cnn_model.fit(batch_size=64, epochs=5 , x=x_train , y = y_train)"
      ],
      "metadata": {
        "colab": {
          "base_uri": "https://localhost:8080/"
        },
        "id": "IjN0VUtygb4P",
        "outputId": "05b6af8a-13d5-4570-fc67-8908c46ed927"
      },
      "execution_count": null,
      "outputs": [
        {
          "output_type": "stream",
          "name": "stdout",
          "text": [
            "Epoch 1/5\n",
            "625/625 [==============================] - 213s 341ms/step - loss: 0.3351 - acc: 0.8455 - precision_22: 0.8380 - recall_22: 0.8575\n",
            "Epoch 2/5\n",
            "625/625 [==============================] - 213s 340ms/step - loss: 0.0905 - acc: 0.9695 - precision_22: 0.9693 - recall_22: 0.9698\n",
            "Epoch 3/5\n",
            "625/625 [==============================] - 215s 344ms/step - loss: 0.0117 - acc: 0.9973 - precision_22: 0.9976 - recall_22: 0.9969\n",
            "Epoch 4/5\n",
            "625/625 [==============================] - 215s 344ms/step - loss: 9.6765e-04 - acc: 0.9999 - precision_22: 0.9998 - recall_22: 1.0000\n",
            "Epoch 5/5\n",
            "625/625 [==============================] - 214s 343ms/step - loss: 2.2902e-04 - acc: 1.0000 - precision_22: 1.0000 - recall_22: 1.0000\n"
          ]
        }
      ]
    },
    {
      "cell_type": "code",
      "source": [
        "results2 = cnn_model.evaluate(x_test ,y_test)\n",
        "print(results2)"
      ],
      "metadata": {
        "colab": {
          "base_uri": "https://localhost:8080/"
        },
        "id": "pHhfPn-_y5CG",
        "outputId": "7c3ade16-ec3f-4c8d-ce62-70dfe19d73e3"
      },
      "execution_count": null,
      "outputs": [
        {
          "output_type": "stream",
          "name": "stdout",
          "text": [
            "32/32 [==============================] - 1s 13ms/step - loss: 0.5331 - acc: 0.8970 - precision_22: 0.8819 - recall_22: 0.9059\n",
            "[0.533052384853363, 0.8970000147819519, 0.8818737268447876, 0.9058577418327332]\n"
          ]
        }
      ]
    },
    {
      "cell_type": "code",
      "source": [
        "ypred_cnn = cnn_model.predict(x_test)\n",
        "ypred_cnnnew = np.zeros(len(ypred_cnn))\n",
        "for i in range(0 , len(ypred_cnn)):\n",
        "  ypred_cnnnew[i] = labelassign(ypred_cnn[i])"
      ],
      "metadata": {
        "id": "VHtDWUkEy5FD"
      },
      "execution_count": null,
      "outputs": []
    },
    {
      "cell_type": "code",
      "source": [
        "cf_cnn = sklearn.metrics.confusion_matrix(y_test, ypred_cnnnew)"
      ],
      "metadata": {
        "id": "3Op_yFtKy5I6"
      },
      "execution_count": null,
      "outputs": []
    },
    {
      "cell_type": "code",
      "source": [
        "print(cf_cnn)"
      ],
      "metadata": {
        "colab": {
          "base_uri": "https://localhost:8080/"
        },
        "id": "sNtFV2nyzXK9",
        "outputId": "74b29ba2-1d35-4be6-9c1a-1f04e12c5119"
      },
      "execution_count": null,
      "outputs": [
        {
          "output_type": "stream",
          "name": "stdout",
          "text": [
            "[[464  58]\n",
            " [ 45 433]]\n"
          ]
        }
      ]
    }
  ]
}